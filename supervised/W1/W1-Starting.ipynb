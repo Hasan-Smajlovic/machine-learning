{
 "cells": [
  {
   "cell_type": "code",
   "execution_count": 1,
   "id": "8854b4a4-f629-4e13-b116-9f57f53ffc14",
   "metadata": {},
   "outputs": [
    {
     "name": "stdout",
     "output_type": "stream",
     "text": [
      "This is code cell\n"
     ]
    }
   ],
   "source": [
    "print(\"This is code cell\")"
   ]
  },
  {
   "cell_type": "code",
   "execution_count": 5,
   "id": "f26f6c8a-80d3-4d61-b290-545350949c0f",
   "metadata": {},
   "outputs": [
    {
     "name": "stdout",
     "output_type": "stream",
     "text": [
      "f strings allow you to embed variables right in the strings\n"
     ]
    }
   ],
   "source": [
    "variable = \"right in the strings\"\n",
    "print(f\"f strings allow you to embed variables {variable}\")"
   ]
  },
  {
   "cell_type": "code",
   "execution_count": null,
   "id": "30a0175f-501d-4604-a710-c929a90cee8d",
   "metadata": {},
   "outputs": [],
   "source": []
  }
 ],
 "metadata": {
  "kernelspec": {
   "display_name": "Python [conda env:base] *",
   "language": "python",
   "name": "conda-base-py"
  },
  "language_info": {
   "codemirror_mode": {
    "name": "ipython",
    "version": 3
   },
   "file_extension": ".py",
   "mimetype": "text/x-python",
   "name": "python",
   "nbconvert_exporter": "python",
   "pygments_lexer": "ipython3",
   "version": "3.13.5"
  }
 },
 "nbformat": 4,
 "nbformat_minor": 5
}
