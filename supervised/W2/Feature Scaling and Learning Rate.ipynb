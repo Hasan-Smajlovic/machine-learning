{
 "cells": [
  {
   "cell_type": "code",
   "execution_count": 2,
   "id": "35ce3fc4-9a95-4165-98d3-b2d31af117ab",
   "metadata": {},
   "outputs": [],
   "source": [
    "import numpy as np\n",
    "import matplotlib.pyplot as plt\n",
    "from lab_utils_multi import load_house_data, run_gradient_descent\n",
    "from lab_utils_multi import norm_plot, plt_equal_scale, plot_cost_i_w\n",
    "from lab_utils_common import dlc\n",
    "np.set_printoptions(precision=2)\n",
    "plt.style.use('./deeplearning.mplstyle')"
   ]
  },
  {
   "cell_type": "code",
   "execution_count": 3,
   "id": "a1bbdf1d-4d19-4465-9185-d7869f7bd3c8",
   "metadata": {},
   "outputs": [],
   "source": [
    "X_train = np.array([[952, 2, 1, 65],[ 1244, 3, 2, 64],[1947, 3, 2, 17]])\n",
    "y_train = np.array([271.5, 232.0, 509.8])"
   ]
  },
  {
   "cell_type": "code",
   "execution_count": null,
   "id": "ebf3412e-5940-4a5f-841c-bc3a325c2677",
   "metadata": {},
   "outputs": [],
   "source": []
  },
  {
   "cell_type": "code",
   "execution_count": null,
   "id": "753d5ce6-07c2-4fc5-80be-ccaae61572d5",
   "metadata": {},
   "outputs": [],
   "source": []
  },
  {
   "cell_type": "code",
   "execution_count": null,
   "id": "56386ea6-ec10-4421-bc84-6b5a8bb6ad14",
   "metadata": {},
   "outputs": [],
   "source": []
  }
 ],
 "metadata": {
  "kernelspec": {
   "display_name": "Python [conda env:base] *",
   "language": "python",
   "name": "conda-base-py"
  },
  "language_info": {
   "codemirror_mode": {
    "name": "ipython",
    "version": 3
   },
   "file_extension": ".py",
   "mimetype": "text/x-python",
   "name": "python",
   "nbconvert_exporter": "python",
   "pygments_lexer": "ipython3",
   "version": "3.13.5"
  }
 },
 "nbformat": 4,
 "nbformat_minor": 5
}
