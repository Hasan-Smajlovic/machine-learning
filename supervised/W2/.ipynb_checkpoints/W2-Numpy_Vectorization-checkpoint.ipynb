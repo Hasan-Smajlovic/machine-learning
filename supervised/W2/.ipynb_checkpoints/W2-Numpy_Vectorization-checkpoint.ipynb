{
 "cells": [
  {
   "cell_type": "code",
   "execution_count": 19,
   "id": "cc892f13-3b61-449f-ad2d-fe1d3516dd61",
   "metadata": {},
   "outputs": [],
   "source": [
    "import numpy as np\n",
    "import time\n"
   ]
  },
  {
   "cell_type": "markdown",
   "id": "05346761-be3a-4334-9429-dc18e216fad2",
   "metadata": {},
   "source": [
    "## Creating Vectors"
   ]
  },
  {
   "cell_type": "code",
   "execution_count": 17,
   "id": "815ce384-5595-46f3-8f52-817d201727c9",
   "metadata": {},
   "outputs": [
    {
     "name": "stdout",
     "output_type": "stream",
     "text": [
      "np.zeros(4): a=[0. 0. 0. 0.], a shape = (4,), a data type = float64\n",
      "np.zeros(4): a=[0. 0. 0. 0.], a shape = (4,), a data type = float64\n",
      "np.zeros(4): a=[0.99370737 0.21535748 0.46691228 0.0642634 ], a shape = (4,), a data type = float64\n"
     ]
    }
   ],
   "source": [
    "a = np.zeros(4); \n",
    "print(f\"np.zeros(4): a={a}, a shape = {a.shape}, a data type = {a.dtype}\")\n",
    "a = np.zeros((4, ));\n",
    "print(f\"np.zeros(4): a={a}, a shape = {a.shape}, a data type = {a.dtype}\")\n",
    "a = np.random.random_sample(4);\n",
    "print(f\"np.zeros(4): a={a}, a shape = {a.shape}, a data type = {a.dtype}\")"
   ]
  },
  {
   "cell_type": "code",
   "execution_count": 11,
   "id": "3077d579-484d-40ce-b987-f18703e4fc70",
   "metadata": {},
   "outputs": [
    {
     "name": "stdout",
     "output_type": "stream",
     "text": [
      "np.arange(4.): a = [0. 1. 2. 3.], a shape = (4,), a data type = float64\n",
      "np.arange(4.): a = [0.82030575 0.89204286 0.73243477 0.55610448], a shape = (4,), a data type = float64\n"
     ]
    }
   ],
   "source": [
    "a = np.arange(4.2); \n",
    "print(f\"np.arange(4.): a = {a}, a shape = {a.shape}, a data type = {a.dtype}\")\n",
    "a = np.random.rand(4);\n",
    "print(f\"np.arange(4.): a = {a}, a shape = {a.shape}, a data type = {a.dtype}\")\n"
   ]
  },
  {
   "cell_type": "code",
   "execution_count": 9,
   "id": "60925302-aa4e-43e2-bf05-059a6e1b7a63",
   "metadata": {},
   "outputs": [
    {
     "name": "stdout",
     "output_type": "stream",
     "text": [
      "np.arange([5,4,3,2): a = [5 4 3 2], a shape = (4,), a data type = int64\n",
      "np.arange([5.,4,3,2): a = [5. 4. 3. 2.], a shape = (4,), a data type = float64\n"
     ]
    }
   ],
   "source": [
    "a = np.array([5,4,3,2]); \n",
    "print(f\"np.arange([5,4,3,2): a = {a}, a shape = {a.shape}, a data type = {a.dtype}\")\n",
    "a = np.array([5.,4,3,2]);\n",
    "print(f\"np.arange([5.,4,3,2): a = {a}, a shape = {a.shape}, a data type = {a.dtype}\")"
   ]
  },
  {
   "cell_type": "markdown",
   "id": "4a67f249-150c-410c-adc2-ba803f8702fe",
   "metadata": {},
   "source": [
    "## Indexing"
   ]
  },
  {
   "cell_type": "code",
   "execution_count": 28,
   "id": "45dfbeb8-1e70-4a53-b84e-b9c5226a122b",
   "metadata": {},
   "outputs": [
    {
     "name": "stdout",
     "output_type": "stream",
     "text": [
      "[0 1 2 3 4 5 6 7 8 9]\n",
      "a[2].shape: () a[2] = 2, Accesing an element returns a scalar\n",
      "a[-1] = 9\n",
      "The error message you will see is: \n",
      "index 10 is out of bounds for axis 0 with size 10\n"
     ]
    }
   ],
   "source": [
    "a = np.arange(10);\n",
    "print(a);\n",
    "\n",
    "print(f\"a[2].shape: {a[2].shape} a[2] = {a[2]}, Accesing an element returns a scalar\")\n",
    "\n",
    "print(f\"a[-1] = {a[-1]}\")\n",
    "\n",
    "try:\n",
    "    c = a[10]\n",
    "except Exception as e:\n",
    "    print(\"The error message you will see is: \")\n",
    "    print(e)"
   ]
  },
  {
   "cell_type": "markdown",
   "id": "0da9419d-2ff9-45db-86b7-0d9f348b9b11",
   "metadata": {},
   "source": [
    "## Slicing"
   ]
  },
  {
   "cell_type": "code",
   "execution_count": 40,
   "id": "cc4e2674-1710-4eca-a62e-7be44e051db7",
   "metadata": {},
   "outputs": [
    {
     "name": "stdout",
     "output_type": "stream",
     "text": [
      "a =      =  [0 1 2 3 4 5 6 7 8 9]\n",
      "a[2:7:1] =  [2 3 4 5 6]\n",
      "a[2:7:2] =  [2 4 6]\n",
      "a[3:]    =  [3 4 5 6 7 8 9]\n",
      "a[:3]    =  [0 1 2]\n",
      "a[:]     =  [0 1 2 3 4 5 6 7 8 9]\n"
     ]
    }
   ],
   "source": [
    "a = np.arange(10); \n",
    "print(f\"a =      =  {a}\")\n",
    "\n",
    "c = a[2:7:1]; \n",
    "print(\"a[2:7:1] = \", c)\n",
    "\n",
    "c = a[2:7:2]; \n",
    "print(\"a[2:7:2] = \", c)\n",
    "\n",
    "c = a[3:]; \n",
    "print(\"a[3:]    = \", c)\n",
    "\n",
    "c = a[:3];\n",
    "print(\"a[:3]    = \", c)\n",
    "\n",
    "c = a[:]; \n",
    "print(\"a[:]     = \", c)\n"
   ]
  },
  {
   "cell_type": "markdown",
   "id": "839044a8-8491-4649-ac76-60f3612d015b",
   "metadata": {},
   "source": [
    "## Single vector operations"
   ]
  },
  {
   "cell_type": "code",
   "execution_count": 52,
   "id": "c1d25fd8-2c9c-4ebf-9e67-3858a5c478ca",
   "metadata": {},
   "outputs": [
    {
     "name": "stdout",
     "output_type": "stream",
     "text": [
      "a                 : [1 2 3 4]\n",
      "b = -a            : [-1 -2 -3 -4]\n",
      "b =np.sum(a)      : 10\n",
      "b =np.mean(a)     : 2.5\n",
      "b = a**2          : [ 1  4  9 16]\n"
     ]
    }
   ],
   "source": [
    "a = np.array([1,2,3,4])\n",
    "print(f\"a                 : {a}\")\n",
    "b = -a\n",
    "print(f\"b = -a            : {b}\")\n",
    "\n",
    "b = np.sum(a)\n",
    "print(f\"b =np.sum(a)      : {b}\")\n",
    "b = np.mean(a)\n",
    "print(f\"b =np.mean(a)     : {b}\")\n",
    "\n",
    "b= a**2\n",
    "print(f\"b = a**2          : {b}\")"
   ]
  },
  {
   "cell_type": "markdown",
   "id": "50731bcc-3384-4dba-b8a7-4876b7141b8f",
   "metadata": {},
   "source": [
    "## Vector Vector element-wise operations"
   ]
  },
  {
   "cell_type": "code",
   "execution_count": 56,
   "id": "4b13b6e5-e09d-4907-88e1-ac9531c732bf",
   "metadata": {},
   "outputs": [
    {
     "name": "stdout",
     "output_type": "stream",
     "text": [
      "Binary operators work element wise: [0 0 6 8]\n"
     ]
    }
   ],
   "source": [
    "a = np.array([1, 2, 3, 4])\n",
    "b = np.array([-1, -2, 3, 4])\n",
    "print(f\"Binary operators work element wise: {a + b}\")"
   ]
  },
  {
   "cell_type": "code",
   "execution_count": 57,
   "id": "55ba63cc-1612-4a83-9013-0a65cb96acf4",
   "metadata": {},
   "outputs": [
    {
     "name": "stdout",
     "output_type": "stream",
     "text": [
      "The error message you will see is: \n",
      "operands could not be broadcast together with shapes (4,) (2,) \n"
     ]
    }
   ],
   "source": [
    "c = np.array([1 , 2])\n",
    "try: \n",
    "    d = a + c\n",
    "except Exception as e:\n",
    "    print(\"The error message you will see is: \")\n",
    "    print(e)"
   ]
  },
  {
   "cell_type": "markdown",
   "id": "d782a776-2db8-4dbe-8fc8-7da6f42f6485",
   "metadata": {},
   "source": [
    "## Scalar Vector Operations"
   ]
  },
  {
   "cell_type": "code",
   "execution_count": 61,
   "id": "8a8622a2-0921-4a89-a474-fc80985bf6f0",
   "metadata": {},
   "outputs": [
    {
     "name": "stdout",
     "output_type": "stream",
     "text": [
      "b = 5 * a : [ 5 10 15 20]\n"
     ]
    }
   ],
   "source": [
    "a = np.array([1, 2, 3, 4])\n",
    "\n",
    "b = 5 * a\n",
    "print(f\"b = 5 * a : {b}\")"
   ]
  },
  {
   "cell_type": "markdown",
   "id": "eba8389b-82ba-494c-beb1-60ad1160516a",
   "metadata": {},
   "source": [
    "## Vector Vector dot product"
   ]
  },
  {
   "cell_type": "code",
   "execution_count": 63,
   "id": "d7ca7096-48c2-480f-a4d6-02a75b6b82da",
   "metadata": {},
   "outputs": [],
   "source": [
    "def my_dot(a, b): \n",
    "    x = 0\n",
    "    for i in range (a.shape[0]):\n",
    "        x = x + a[i] * b[i]\n",
    "    return x"
   ]
  },
  {
   "cell_type": "code",
   "execution_count": 64,
   "id": "8904fdd8-7870-4491-806b-9d53b8e5ea0c",
   "metadata": {},
   "outputs": [
    {
     "name": "stdout",
     "output_type": "stream",
     "text": [
      "my_dot(a,b) = 24\n"
     ]
    }
   ],
   "source": [
    "a = np.array([1, 2, 3, 4])\n",
    "b = np.array([-1, 4, 3, 2])\n",
    "print(f\"my_dot(a,b) = {my_dot(a,b)}\")"
   ]
  },
  {
   "cell_type": "markdown",
   "id": "5423012b-64c6-47ca-9fc0-850574fe0828",
   "metadata": {},
   "source": [
    "This is without np.dot operation (not recommened)"
   ]
  },
  {
   "cell_type": "code",
   "execution_count": 66,
   "id": "6360d8c2-95b3-4e95-8327-7cd7afb87bb9",
   "metadata": {},
   "outputs": [
    {
     "name": "stdout",
     "output_type": "stream",
     "text": [
      "Numpy 1-D np.dot(a, b) = 24, np.dot(a,b).shape = ()\n",
      "Numpy 1-D np.dot(a, b) = 24, np.dot(a,b).shape = ()\n"
     ]
    }
   ],
   "source": [
    "a = np.array([1, 2, 3, 4])\n",
    "b = np.array([-1, 4, 3, 2])\n",
    "c = np.dot(a, b) \n",
    "print(f\"Numpy 1-D np.dot(a, b) = {c}, np.dot(a,b).shape = {c.shape}\")\n",
    "c = np.dot(b,a)\n",
    "print(f\"Numpy 1-D np.dot(a, b) = {c}, np.dot(a,b).shape = {c.shape}\")\n"
   ]
  },
  {
   "cell_type": "markdown",
   "id": "a6e55aff-b57b-441c-ba12-82fa27a20e57",
   "metadata": {},
   "source": [
    "This is using np.dot (this is preferable)"
   ]
  },
  {
   "cell_type": "markdown",
   "id": "ec070c71-dd56-4acb-a365-29a24118c476",
   "metadata": {},
   "source": [
    "## Speed test: vector vs for loop "
   ]
  },
  {
   "cell_type": "code",
   "execution_count": 71,
   "id": "9e304537-534e-45b2-8be5-005eed551e83",
   "metadata": {},
   "outputs": [
    {
     "name": "stdout",
     "output_type": "stream",
     "text": [
      "np.dot(a,b) = 2501072.5817\n",
      "Vectorized version duration: 5.7790 ms\n",
      "my_dot(a, b) = 2501072.5817\n",
      "loop version duration: 4883.5862 ms\n"
     ]
    }
   ],
   "source": [
    "np.random.seed(1)\n",
    "a = np.random.rand(10000000)\n",
    "b = np.random.rand(10000000)\n",
    "\n",
    "tic = time.time() # capture start time\n",
    "c = np.dot(a, b)\n",
    "toc = time.time() # capture end time\n",
    "\n",
    "print(f\"np.dot(a,b) = {c:.4f}\") #.4f means format these numbers to have 4 digits after decimal point\n",
    "print(f\"Vectorized version duration: {1000*(toc-tic):.4f} ms\")\n",
    "\n",
    "tic=time.time()\n",
    "c = my_dot(a, b)\n",
    "toc = time.time()\n",
    "\n",
    "print(f\"my_dot(a, b) = {c:.4f}\")\n",
    "print(f\"loop version duration: {1000 * (toc - tic):.4f} ms\")\n",
    "\n",
    "del(a)\n",
    "del(b)\n",
    "#removing these big arrays from memory "
   ]
  },
  {
   "cell_type": "markdown",
   "id": "87f1fa38-8305-4a56-9c39-406204c56048",
   "metadata": {},
   "source": [
    "## Vector Operations in Course 1"
   ]
  },
  {
   "cell_type": "code",
   "execution_count": 74,
   "id": "ca53a6da-39af-48b9-bcb3-78ffba7041f4",
   "metadata": {},
   "outputs": [
    {
     "name": "stdout",
     "output_type": "stream",
     "text": [
      "x[1] has shape (1,)\n",
      "w has shape (1,)\n",
      "c has shape ()\n"
     ]
    }
   ],
   "source": [
    "x = np.array([[1],[2],[3],[4]])\n",
    "w = np.array([2])\n",
    "c = np.dot(x[1], w)\n",
    "\n",
    "print(f\"x[1] has shape {x[1].shape}\")\n",
    "print(f\"w has shape {w.shape}\")\n",
    "print(f\"c has shape {c.shape}\")"
   ]
  },
  {
   "cell_type": "markdown",
   "id": "716147cc-1b13-4d99-8d8d-29d616323662",
   "metadata": {},
   "source": [
    "## Matrices"
   ]
  },
  {
   "cell_type": "markdown",
   "id": "124c14e9-6997-4eda-a9ae-3a2674ae5bb9",
   "metadata": {},
   "source": [
    "## Matrix Creation"
   ]
  },
  {
   "cell_type": "code",
   "execution_count": 81,
   "id": "bc9b7e79-a5c2-4b69-a6df-23ffa388c325",
   "metadata": {},
   "outputs": [
    {
     "name": "stdout",
     "output_type": "stream",
     "text": [
      "a shape = (1, 5), a = [[0. 0. 0. 0. 0.]]\n",
      "a shape = (2, 1), a = [[0.]\n",
      " [0.]]\n",
      "a shape = (1, 1), a = [[0.24814448]]\n"
     ]
    }
   ],
   "source": [
    "a = np.zeros((1,5))\n",
    "print (f\"a shape = {a.shape}, a = {a}\")\n",
    "\n",
    "a= np.zeros((2, 1))\n",
    "print (f\"a shape = {a.shape}, a = {a}\")\n",
    "\n",
    "a = np.random.random_sample((1,1))\n",
    "print(f\"a shape = {a.shape}, a = {a}\")"
   ]
  },
  {
   "cell_type": "code",
   "execution_count": 89,
   "id": "f28f33fa-6903-4247-8525-142b02d5aca4",
   "metadata": {},
   "outputs": [
    {
     "name": "stdout",
     "output_type": "stream",
     "text": [
      "a shape = (3, 1), np.array: a = [[5]\n",
      " [4]\n",
      " [3]]\n",
      "====================\n",
      "a shape = (3, 1), np.array: a = [[5]\n",
      " [4]\n",
      " [3]]\n"
     ]
    }
   ],
   "source": [
    "a = np.array([[5], [4], [3]]);\n",
    "print(f\"a shape = {a.shape}, np.array: a = {a}\")\n",
    "\n",
    "print(\"====================\");\n",
    "\n",
    "a = np.array([[5], #this is just to show it can be made like this as well\n",
    "              [4], \n",
    "              [3]]);\n",
    "print(f\"a shape = {a.shape}, np.array: a = {a}\")"
   ]
  },
  {
   "cell_type": "markdown",
   "id": "5f7eb86b-5cdc-49b1-acd0-b0aeb2aa46f8",
   "metadata": {},
   "source": [
    "## Indexing of matrices"
   ]
  },
  {
   "cell_type": "code",
   "execution_count": 92,
   "id": "42947759-6904-4de2-90ca-62abc60cc65e",
   "metadata": {},
   "outputs": [
    {
     "name": "stdout",
     "output_type": "stream",
     "text": [
      "a.shape = (3, 2)\n",
      "\n",
      "a[2,0].shape = (), a[2,0] = 4, type(a[2,0]) = <class 'numpy.int64'> Accesing an element returns a scalar \n",
      "\n",
      "\n",
      "a[2].shape = (2,), a[2] = [4 5], type(a[2]) = <class 'numpy.ndarray'> Accesing an element returns a scalar \n",
      "\n"
     ]
    }
   ],
   "source": [
    "a = np.arange(6).reshape(-1, 2) #we can use reshape to create matrices\n",
    "print(f\"a.shape = {a.shape}\")\n",
    "\n",
    "#access an element\n",
    "print(f\"\\na[2,0].shape = {a[2,0].shape}, a[2,0] = {a[2,0]}, type(a[2,0]) = {type(a[2,0])} Accesing an element returns a scalar \\n\")\n",
    "\n",
    "#access a row\n",
    "print(f\"\\na[2].shape = {a[2].shape}, a[2] = {a[2]}, type(a[2]) = {type(a[2])}\")\n"
   ]
  },
  {
   "cell_type": "markdown",
   "id": "feddf0ad-2f44-4135-b0fd-388976e5daa6",
   "metadata": {},
   "source": [
    "## Slicing "
   ]
  },
  {
   "cell_type": "code",
   "execution_count": 103,
   "id": "f1cfa2fa-40bc-407e-8160-0b9f836adec9",
   "metadata": {},
   "outputs": [
    {
     "name": "stdout",
     "output_type": "stream",
     "text": [
      "a = \n",
      "[[ 0  1  2  3  4  5  6  7  8  9]\n",
      " [10 11 12 13 14 15 16 17 18 19]]\n",
      "-------------------------------------------------------------------------------\n",
      "a[0, 2:7:1] = [2 3 4 5 6], a[0, 2:7:1].shape = (5,), a 1-D array \n",
      "-------------------------------------------------------------------------------\n",
      "a[:, 2:7:1] = \n",
      " [[ 2  3  4  5  6]\n",
      " [12 13 14 15 16]] ,  a[:, 2:7:1].shape = (2, 5) a 2-D array\n",
      "a[:,:] = \n",
      " [[ 0  1  2  3  4  5  6  7  8  9]\n",
      " [10 11 12 13 14 15 16 17 18 19]] ,  a[:,:].shape = (2, 10)\n",
      "-------------------------------------------------------------------------------\n",
      "a[1,:] =  [10 11 12 13 14 15 16 17 18 19] ,  a[1,:].shape = (10,) a 1-D array\n",
      "-------------------------------------------------------------------------------\n",
      "a[1]   =  [10 11 12 13 14 15 16 17 18 19] ,  a[1].shape   = (10,) a 1-D array\n"
     ]
    }
   ],
   "source": [
    "a = np.arange(20).reshape(-1, 10)\n",
    "print(f\"a = \\n{a}\")\n",
    "print(\"-------------------------------------------------------------------------------\")\n",
    "\n",
    "# access 5 consecutive elements(start:stop:step)\n",
    "print(f\"a[0, 2:7:1] = {a[0, 2:7:1]}, a[0, 2:7:1].shape = {a[0, 2:7:1].shape}, a 1-D array \")\n",
    "print(\"-------------------------------------------------------------------------------\")\n",
    "#access 5 consecutive elements(start: stop: step) in two rows\n",
    "print(\"a[:, 2:7:1] = \\n\", a[:, 2:7:1], \",  a[:, 2:7:1].shape =\", a[:, 2:7:1].shape, \"a 2-D array\")\n",
    "\n",
    "\n",
    "# access all elements\n",
    "print(\"a[:,:] = \\n\", a[:,:], \",  a[:,:].shape =\", a[:,:].shape)\n",
    "print(\"-------------------------------------------------------------------------------\")\n",
    "\n",
    "# access all elements in one row (very common usage)\n",
    "print(\"a[1,:] = \", a[1,:], \",  a[1,:].shape =\", a[1,:].shape, \"a 1-D array\")\n",
    "print(\"-------------------------------------------------------------------------------\")\n",
    "\n",
    "# same as\n",
    "print(\"a[1]   = \", a[1],   \",  a[1].shape   =\", a[1].shape, \"a 1-D array\")"
   ]
  },
  {
   "cell_type": "code",
   "execution_count": null,
   "id": "df7408a4-60fb-4734-b121-a9efb03f7373",
   "metadata": {},
   "outputs": [],
   "source": []
  }
 ],
 "metadata": {
  "kernelspec": {
   "display_name": "Python 3 (ipykernel)",
   "language": "python",
   "name": "python3"
  },
  "language_info": {
   "codemirror_mode": {
    "name": "ipython",
    "version": 3
   },
   "file_extension": ".py",
   "mimetype": "text/x-python",
   "name": "python",
   "nbconvert_exporter": "python",
   "pygments_lexer": "ipython3",
   "version": "3.13.5"
  }
 },
 "nbformat": 4,
 "nbformat_minor": 5
}
