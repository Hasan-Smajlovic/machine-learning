{
 "cells": [
  {
   "cell_type": "code",
   "execution_count": 10,
   "id": "c7bddc76-9e4c-4003-a5bb-a47f05eada0b",
   "metadata": {},
   "outputs": [],
   "source": [
    "import copy, math\n",
    "import numpy as np\n",
    "import matplotlib.pyplot as plt\n",
    "\n",
    "plt.style.use('./utilis/deeplearning.mplstyle')\n",
    "np.set_printoptions(precision = 2) #reduced display precision on numpy arrays"
   ]
  },
  {
   "cell_type": "code",
   "execution_count": 12,
   "id": "de757906-a4bc-4676-8492-57175c83cc6b",
   "metadata": {},
   "outputs": [],
   "source": [
    "X_train = np.array([[2104, 5, 1, 45], [1416, 3, 2, 40], [852, 2, 1, 35]])\n",
    "y_train = np.array([460, 232, 178])"
   ]
  },
  {
   "cell_type": "code",
   "execution_count": 15,
   "id": "84896250-85d0-4548-9f42-bb90f46c0ad9",
   "metadata": {},
   "outputs": [
    {
     "name": "stdout",
     "output_type": "stream",
     "text": [
      "X shape: (3, 4), X type: <class 'numpy.ndarray'>\n",
      "----------------------------------------------------\n",
      "[[2104    5    1   45]\n",
      " [1416    3    2   40]\n",
      " [ 852    2    1   35]]\n"
     ]
    }
   ],
   "source": [
    "print(f\"X shape: {X_train.shape}, X type: {type(X_train)}\")\n",
    "print(\"----------------------------------------------------\")\n",
    "print(X_train)"
   ]
  },
  {
   "cell_type": "code",
   "execution_count": 17,
   "id": "63c4b95f-8107-44c7-9a9c-3c2a4a93dc0d",
   "metadata": {},
   "outputs": [
    {
     "name": "stdout",
     "output_type": "stream",
     "text": [
      "y shape: (3,), y type: <class 'numpy.ndarray'>\n",
      "----------------------------------------------------\n",
      "[460 232 178]\n"
     ]
    }
   ],
   "source": [
    "print(f\"y shape: {y_train.shape}, y type: {type(y_train)}\")\n",
    "print(\"----------------------------------------------------\")\n",
    "print(y_train)"
   ]
  },
  {
   "cell_type": "code",
   "execution_count": 18,
   "id": "8f0a5f38-47eb-4ce1-94e3-3cdaa3871bb3",
   "metadata": {},
   "outputs": [
    {
     "name": "stdout",
     "output_type": "stream",
     "text": [
      "w_init shape: (4,), b_init type: <class 'float'>\n"
     ]
    }
   ],
   "source": [
    "b_init = 785.1811367994083  #these are some initial selected values\n",
    "w_init = np.array([ 0.39133535, 18.75376741, -53.36032453, -26.42131618]) #these are some initial selected values\n",
    "print(f\"w_init shape: {w_init.shape}, b_init type: {type(b_init)}\")"
   ]
  },
  {
   "cell_type": "markdown",
   "id": "cd9d8499-6345-4af8-b131-269178fd8b02",
   "metadata": {},
   "source": [
    "## Prediction using multiple variables"
   ]
  },
  {
   "cell_type": "code",
   "execution_count": 19,
   "id": "6329fc42-04db-437e-9404-702891a3a278",
   "metadata": {},
   "outputs": [],
   "source": [
    "def prediction(x, w, b):\n",
    "    p = np.dot(x,w) + b\n",
    "    return p\n"
   ]
  },
  {
   "cell_type": "code",
   "execution_count": 22,
   "id": "10c9c08a-3eb3-4ed3-b14e-1193bbd9498d",
   "metadata": {},
   "outputs": [
    {
     "name": "stdout",
     "output_type": "stream",
     "text": [
      "x_vec shape (4,), x_vec value: [2104    5    1   45]\n",
      "f_wb shape (), prediction: 459.9999976194083\n"
     ]
    }
   ],
   "source": [
    "x_vec = X_train[0,:]\n",
    "print(f\"x_vec shape {x_vec.shape}, x_vec value: {x_vec}\")\n",
    "f_wb = prediction(x_vec, w_init, b_init)\n",
    "print(f\"f_wb shape {f_wb.shape}, prediction: {f_wb}\")"
   ]
  },
  {
   "cell_type": "markdown",
   "id": "d8ea75e4-9343-437e-a335-316d97715cf3",
   "metadata": {},
   "source": [
    "## Compute Cost with Multiple Variables"
   ]
  },
  {
   "cell_type": "code",
   "execution_count": 26,
   "id": "7c3b8e6b-3b36-4ebd-b87a-975cd462a767",
   "metadata": {},
   "outputs": [],
   "source": [
    "def compute_cost(X, y, w, b):\n",
    "    m = X.shape[0]\n",
    "    cost = 0.0\n",
    "    for i in range(m):\n",
    "        f_wb_i = np.dot(w, X[i]) + b\n",
    "        cost = cost + (f_wb_i - y[i])**2\n",
    "    cost = cost/2\n",
    "    return cost"
   ]
  },
  {
   "cell_type": "code",
   "execution_count": 27,
   "id": "2f5b9537-3214-433e-a053-a6ead5dfd9d9",
   "metadata": {},
   "outputs": [
    {
     "name": "stdout",
     "output_type": "stream",
     "text": [
      "Cost at optimal w: 4.6736712137990024e-12\n"
     ]
    }
   ],
   "source": [
    "cost = compute_cost(X_train, y_train, w_init, b_init)\n",
    "print(f\"Cost at optimal w: {cost}\")"
   ]
  },
  {
   "cell_type": "markdown",
   "id": "32a3d7f5-6633-4535-a169-327fb8408ee3",
   "metadata": {},
   "source": [
    "## Compute Gradient Descent With Multiple Variables"
   ]
  },
  {
   "cell_type": "code",
   "execution_count": 35,
   "id": "1116ba33-4d66-456e-9627-1c7b9465d2db",
   "metadata": {},
   "outputs": [],
   "source": [
    "def compute_gradient(X, y, w, b):\n",
    "    m, n = X.shape \n",
    "    dj_dw = np.zeros((n,))\n",
    "    dj_db = 0\n",
    "\n",
    "    for i in range(m):\n",
    "        err = (np.dot(X[i], w) + b) - y[i]\n",
    "        for j in range(n):\n",
    "            dj_dw[j] = dj_dw[j] + err * X[i, j]\n",
    "        dj_db = dj_db + err\n",
    "    dj_dw = dj_dw / m\n",
    "    dj_db = dj_db / m\n",
    "\n",
    "    return dj_db, dj_dw"
   ]
  },
  {
   "cell_type": "code",
   "execution_count": 36,
   "id": "a57d292c-f310-4b9f-961f-0760fb7234d2",
   "metadata": {},
   "outputs": [
    {
     "name": "stdout",
     "output_type": "stream",
     "text": [
      "dj_db at initial w,b: -1.6739251122999121e-06\n",
      "dj_dw at initial w,b: \n",
      " [-2.73e-03 -6.27e-06 -2.22e-06 -6.92e-05]\n"
     ]
    }
   ],
   "source": [
    "tmp_dj_db, tmp_dj_dw = compute_gradient(X_train, y_train, w_init, b_init)\n",
    "print(f'dj_db at initial w,b: {tmp_dj_db}')\n",
    "print(f'dj_dw at initial w,b: \\n {tmp_dj_dw}')"
   ]
  },
  {
   "cell_type": "markdown",
   "id": "aba951af-aceb-4359-bfcd-8db2c099f0e2",
   "metadata": {},
   "source": [
    "## Gradient Descent With Multiple Variables "
   ]
  },
  {
   "cell_type": "code",
   "execution_count": 42,
   "id": "e41ed00b-17be-4c70-9156-6f0bf1fe6a05",
   "metadata": {},
   "outputs": [],
   "source": [
    "def gradient_descent(X, y, w_in, b_in, cost_function, gradient_function, alpha, num_iters):\n",
    "    J_history = []\n",
    "    w = copy.deepcopy(w_in)\n",
    "    b = b_in \n",
    "\n",
    "    for i in range(num_iters): \n",
    "        dj_db, dj_dw = gradient_function(X, y, w, b)\n",
    "        w = w - alpha * dj_dw\n",
    "        b = b - alpha * dj_db\n",
    "\n",
    "        if i<100000:\n",
    "            J_history.append(cost_function(X,y,w,b))\n",
    "\n",
    "        if i% math.ceil(num_iters/10) == 0:\n",
    "            print(f\"Iteration {i:4d}: Cost {J_history[-1]:8.2f}   \")\n",
    "    return w,b, J_history"
   ]
  },
  {
   "cell_type": "code",
   "execution_count": 43,
   "id": "3cddfe93-d707-432f-9d53-e6309e60fe24",
   "metadata": {},
   "outputs": [
    {
     "name": "stdout",
     "output_type": "stream",
     "text": [
      "Iteration    0: Cost  7588.39   \n",
      "Iteration  100: Cost  2087.97   \n",
      "Iteration  200: Cost  2084.76   \n",
      "Iteration  300: Cost  2081.58   \n",
      "Iteration  400: Cost  2078.43   \n",
      "Iteration  500: Cost  2075.30   \n",
      "Iteration  600: Cost  2072.20   \n",
      "Iteration  700: Cost  2069.13   \n",
      "Iteration  800: Cost  2066.09   \n",
      "Iteration  900: Cost  2063.07   \n",
      "b,w found by gradient descent: -0.00,[ 0.2   0.   -0.01 -0.07] \n",
      "prediction: 426.19, target value: 460\n",
      "prediction: 286.17, target value: 232\n",
      "prediction: 171.47, target value: 178\n"
     ]
    }
   ],
   "source": [
    "initial_w = np.zeros_like(w_init)\n",
    "initial_b = 0.\n",
    "iterations= 1000\n",
    "alpha = 5.0e-7\n",
    "w_final, b_final, J_hist = gradient_descent(X_train, y_train, initial_w, initial_b,\n",
    "                                                    compute_cost, compute_gradient, \n",
    "                                                    alpha, iterations)\n",
    "print(f\"b,w found by gradient descent: {b_final:0.2f},{w_final} \")\n",
    "m,_ = X_train.shape\n",
    "for i in range(m):\n",
    "    print(f\"prediction: {np.dot(X_train[i], w_final) + b_final:0.2f}, target value: {y_train[i]}\")"
   ]
  },
  {
   "cell_type": "code",
   "execution_count": 45,
   "id": "737decca-e947-45e4-a0d6-c6afc1e3e86a",
   "metadata": {},
   "outputs": [
    {
     "data": {
      "image/png": "[encoded data removed]",
      "text/plain": [
       "<Figure size 1200x400 with 2 Axes>"
      ]
     },
     "metadata": {},
     "output_type": "display_data"
    }
   ],
   "source": [
    "# plot cost versus iteration  \n",
    "fig, (ax1, ax2) = plt.subplots(1, 2, constrained_layout=True, figsize=(12, 4))\n",
    "ax1.plot(J_hist)\n",
    "ax2.plot(100 + np.arange(len(J_hist[100:])), J_hist[100:])\n",
    "ax1.set_title(\"Cost vs. iteration\");  ax2.set_title(\"Cost vs. iteration (tail)\")\n",
    "ax1.set_ylabel('Cost')             ;  ax2.set_ylabel('Cost') \n",
    "ax1.set_xlabel('iteration step')   ;  ax2.set_xlabel('iteration step') \n",
    "plt.show()"
   ]
  },
  {
   "cell_type": "code",
   "execution_count": null,
   "id": "1ce35c81-6aad-43b4-9c6f-9638ac59b92b",
   "metadata": {},
   "outputs": [],
   "source": []
  }
 ],
 "metadata": {
  "kernelspec": {
   "display_name": "Python [conda env:base] *",
   "language": "python",
   "name": "conda-base-py"
  },
  "language_info": {
   "codemirror_mode": {
    "name": "ipython",
    "version": 3
   },
   "file_extension": ".py",
   "mimetype": "text/x-python",
   "name": "python",
   "nbconvert_exporter": "python",
   "pygments_lexer": "ipython3",
   "version": "3.13.5"
  }
 },
 "nbformat": 4,
 "nbformat_minor": 5
}
