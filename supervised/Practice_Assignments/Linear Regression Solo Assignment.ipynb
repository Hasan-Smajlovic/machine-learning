{
 "cells": [
  {
   "cell_type": "code",
   "execution_count": 22,
   "id": "6e0d61d5-8e1f-4798-9a0d-3056582c0474",
   "metadata": {},
   "outputs": [],
   "source": [
    "import numpy as np\n",
    "import matplotlib.pyplot as plt\n",
    "import importlib\n",
    "from utils import *\n",
    "import copy\n",
    "import math\n",
    "%matplotlib inline\n"
   ]
  },
  {
   "cell_type": "code",
   "execution_count": 23,
   "id": "6045e343-0df4-4eb8-bc9e-38af9d8b0eb9",
   "metadata": {},
   "outputs": [],
   "source": [
    "x_train, y_train = load_data()"
   ]
  },
  {
   "cell_type": "code",
   "execution_count": 29,
   "id": "62ee16a2-2c03-49d2-afeb-2eb8cab2ba30",
   "metadata": {},
   "outputs": [
    {
     "name": "stdout",
     "output_type": "stream",
     "text": [
      "Type of x_train:  <class 'numpy.ndarray'>\n",
      "First five elements of x_train are: \n",
      " [6.1101 5.5277 8.5186 7.0032 5.8598]\n"
     ]
    }
   ],
   "source": [
    "print('Type of x_train: ', type(x_train))\n",
    "print('First five elements of x_train are: \\n', x_train[:5])"
   ]
  },
  {
   "cell_type": "code",
   "execution_count": 30,
   "id": "e6196ff1-e8fb-439c-b45e-e542b082db33",
   "metadata": {},
   "outputs": [
    {
     "name": "stdout",
     "output_type": "stream",
     "text": [
      "Type of y_train:  <class 'numpy.ndarray'>\n",
      "First five elements of y_train are:  \n",
      ": [17.592   9.1302 13.662  11.854   6.8233]\n"
     ]
    }
   ],
   "source": [
    "print('Type of y_train: ', type(y_train))\n",
    "print('First five elements of y_train are:  \\n:', y_train[:5])"
   ]
  },
  {
   "cell_type": "code",
   "execution_count": 34,
   "id": "d1724c56-bd8f-4d6c-94c9-c81888656adc",
   "metadata": {},
   "outputs": [
    {
     "name": "stdout",
     "output_type": "stream",
     "text": [
      "The shape of x_train is:  (97,)\n",
      "The shape of y_train is:  (97,)\n",
      "Number of training examples (m) is:  97\n"
     ]
    }
   ],
   "source": [
    "print('The shape of x_train is: ', x_train.shape)\n",
    "print('The shape of y_train is: ', y_train.shape)\n",
    "print('Number of training examples (m) is: ', len(x_train))"
   ]
  },
  {
   "cell_type": "code",
   "execution_count": 38,
   "id": "1177866d-b4b2-43d0-acf5-350d40ed3961",
   "metadata": {},
   "outputs": [
    {
     "data": {
      "image/png": "[encoded data removed]",
      "text/plain": [
       "<Figure size 640x480 with 1 Axes>"
      ]
     },
     "metadata": {},
     "output_type": "display_data"
    }
   ],
   "source": [
    "plt.scatter(x_train, y_train, marker = 'x', c='r')\n",
    "plt.title('Profits vs Population per city')\n",
    "plt.ylabel('Profit in $10,000')\n",
    "plt.xlabel('Population of City in 10,000s')\n",
    "plt.show()"
   ]
  },
  {
   "cell_type": "code",
   "execution_count": 69,
   "id": "b42864ad-5d0d-473d-ae41-e0c9ce5294f3",
   "metadata": {},
   "outputs": [],
   "source": [
    "def compute_cost(x,y,w,b):\n",
    "    m=x.shape[0]\n",
    "    total_cost = 0\n",
    "    \n",
    "    cost = 0\n",
    "    cost_sum = 0\n",
    "    for i in range(m):\n",
    "        f_wb = w*x[i] +b\n",
    "        cost = (f_wb - y[i])**2\n",
    "        cost_sum = cost_sum + cost\n",
    "        total_cost = (1 / (2*m)) * cost_sum\n",
    "    return total_cost"
   ]
  },
  {
   "cell_type": "code",
   "execution_count": 80,
   "id": "4eacc901-d61c-41e7-b0d7-90e67a7ee519",
   "metadata": {},
   "outputs": [
    {
     "name": "stdout",
     "output_type": "stream",
     "text": [
      "<class 'numpy.float64'>\n",
      "Cost at initial w (zeros): 75.203\n",
      "\u001b[92mAll tests passed!\n",
      "75.203\n"
     ]
    }
   ],
   "source": [
    "initial_w = 2\n",
    "initial_b = 1\n",
    "\n",
    "cost = compute_cost(x_train, y_train, initial_w, initial_b)\n",
    "print(type(cost))\n",
    "print(f'Cost at initial w (zeros): {cost:.3f}')\n",
    "\n",
    "# Public tests\n",
    "from public_tests import *\n",
    "compute_cost_test(compute_cost)\n",
    "\n",
    "print(f\"{cost:.3f}\")"
   ]
  },
  {
   "cell_type": "code",
   "execution_count": 131,
   "id": "f8d1c539-d27e-48e6-89ec-e7446fc1d78f",
   "metadata": {},
   "outputs": [],
   "source": [
    "def compute_gradient(x, y, w, b):\n",
    "    m = x.shape[0]\n",
    "\n",
    "    dj_dw = 0\n",
    "    dj_db = 0\n",
    "    \n",
    "    for i in range(m):\n",
    "        f_wb = w*x[i]+b\n",
    "        dj_dw = dj_dw + (f_wb - y[i])*x[i]\n",
    "        dj_db = dj_db + (f_wb - y[i])\n",
    "        \n",
    "    dj_dw = dj_dw / m\n",
    "    dj_db = dj_db / m\n",
    "\n",
    "    return  dj_dw, dj_db"
   ]
  },
  {
   "cell_type": "code",
   "execution_count": 132,
   "id": "5152a73a-22a5-4342-8832-4bea6c2f036d",
   "metadata": {},
   "outputs": [
    {
     "name": "stdout",
     "output_type": "stream",
     "text": [
      "Gradient at initial w, b (zeros): -65.32884974555672 -5.83913505154639\n",
      "Using X with shape (4, 1)\n",
      "\u001b[92mAll tests passed!\n"
     ]
    }
   ],
   "source": [
    "# Compute and display gradient with w initialized to zeroes\n",
    "initial_w = 0\n",
    "initial_b = 0\n",
    "\n",
    "tmp_dj_dw, tmp_dj_db = compute_gradient(x_train, y_train, initial_w, initial_b)\n",
    "print('Gradient at initial w, b (zeros):', tmp_dj_dw, tmp_dj_db)\n",
    "\n",
    "compute_gradient_test(compute_gradient)"
   ]
  },
  {
   "cell_type": "code",
   "execution_count": 133,
   "id": "13e2dfb1-2efa-406f-b697-bc0b2569c766",
   "metadata": {},
   "outputs": [
    {
     "name": "stdout",
     "output_type": "stream",
     "text": [
      "Gradient at test w, b: -47.41610118114435 -4.007175051546391\n"
     ]
    }
   ],
   "source": [
    "# Compute and display cost and gradient with non-zero w\n",
    "test_w = 0.2\n",
    "test_b = 0.2\n",
    "tmp_dj_dw, tmp_dj_db = compute_gradient(x_train, y_train, test_w, test_b)\n",
    "\n",
    "print('Gradient at test w, b:', tmp_dj_dw, tmp_dj_db)"
   ]
  },
  {
   "cell_type": "code",
   "execution_count": 160,
   "id": "6005d00c-1954-49ab-b4bb-770c81e55e8c",
   "metadata": {},
   "outputs": [],
   "source": [
    "import math, copy\n",
    "\n",
    "def gradient_descent(x, y, w_in, b_in, cost_function, gradient_function, alpha, num_iters):\n",
    "    m = len(x)\n",
    "\n",
    "    J_history = []\n",
    "    w_history = []\n",
    "    w = copy.deepcopy(w_in)\n",
    "    b = b_in\n",
    "\n",
    "    for i in range(num_iters):\n",
    "        dj_dw, dj_db = gradient_function(x, y, w, b)\n",
    "        w = w - alpha * dj_dw\n",
    "        b = b - alpha * dj_db\n",
    "\n",
    "        if i < 100000:\n",
    "            cost = cost_function(x, y, w, b)\n",
    "            J_history.append(cost)\n",
    "\n",
    "        if i % math.ceil(num_iters / 10) == 0:\n",
    "            w_history.append(w)\n",
    "            print(f\"Iteration {i:4}: Cost {float(J_history[-1]):8.2f}\")\n",
    "\n",
    "    return w, b, J_history, w_history\n"
   ]
  },
  {
   "cell_type": "code",
   "execution_count": 161,
   "id": "0782ed11-8725-4155-87ec-e3aa316b8ee3",
   "metadata": {},
   "outputs": [
    {
     "name": "stdout",
     "output_type": "stream",
     "text": [
      "Iteration    0: Cost     6.74\n",
      "Iteration  150: Cost     5.31\n",
      "Iteration  300: Cost     4.96\n",
      "Iteration  450: Cost     4.76\n",
      "Iteration  600: Cost     4.64\n",
      "Iteration  750: Cost     4.57\n",
      "Iteration  900: Cost     4.53\n",
      "Iteration 1050: Cost     4.51\n",
      "Iteration 1200: Cost     4.50\n",
      "Iteration 1350: Cost     4.49\n",
      "w,b found by gradient descent: 1.166362350335582 -3.63029143940436\n"
     ]
    }
   ],
   "source": [
    "# initialize fitting parameters. Recall that the shape of w is (n,)\n",
    "initial_w = 0.\n",
    "initial_b = 0.\n",
    "\n",
    "# some gradient descent settings\n",
    "iterations = 1500\n",
    "alpha = 0.01\n",
    "\n",
    "w,b,_,_ = gradient_descent(x_train ,y_train, initial_w, initial_b, \n",
    "                     compute_cost, compute_gradient, alpha, iterations)\n",
    "print(\"w,b found by gradient descent:\", w, b)"
   ]
  },
  {
   "cell_type": "code",
   "execution_count": 162,
   "id": "0e894857-cf48-44fe-8e86-840ba1f1c69d",
   "metadata": {},
   "outputs": [],
   "source": [
    "m = x_train.shape[0]\n",
    "predicted = np.zeros(m)\n",
    "\n",
    "for i in range(m):\n",
    "    predicted[i] = w * x_train[i] + b"
   ]
  },
  {
   "cell_type": "code",
   "execution_count": 163,
   "id": "bd24c7b8-3335-4bfb-b325-a6797a52599a",
   "metadata": {},
   "outputs": [
    {
     "data": {
      "image/png": "[encoded data removed]",
      "text/plain": [
       "<Figure size 640x480 with 1 Axes>"
      ]
     },
     "metadata": {},
     "output_type": "display_data"
    }
   ],
   "source": [
    "plt.plot(x_train, predicted, c = \"b\")\n",
    "plt.scatter(x_train, y_train, marker='x', c='r') \n",
    "plt.title(\"Profits vs. Population per city\")\n",
    "plt.ylabel('Profit in $10,000')\n",
    "plt.xlabel('Population of City in 10,000s')\n",
    "plt.show()"
   ]
  },
  {
   "cell_type": "code",
   "execution_count": 164,
   "id": "a9eaed52-0fa2-49b1-bbae-b00b309b4d43",
   "metadata": {},
   "outputs": [
    {
     "name": "stdout",
     "output_type": "stream",
     "text": [
      "For population = 35,000, we predict a profit of $4519.77\n",
      "For population = 70,000, we predict a profit of $45342.45\n"
     ]
    }
   ],
   "source": [
    "\n",
    "predict1 = 3.5 * w + b\n",
    "print('For population = 35,000, we predict a profit of $%.2f' % (predict1*10000))\n",
    "\n",
    "predict2 = 7.0 * w + b\n",
    "print('For population = 70,000, we predict a profit of $%.2f' % (predict2*10000))"
   ]
  },
  {
   "cell_type": "code",
   "execution_count": null,
   "id": "f3bdc1d2-bf32-49fb-9dd6-18fbb51ed735",
   "metadata": {},
   "outputs": [],
   "source": []
  }
 ],
 "metadata": {
  "kernelspec": {
   "display_name": "Python [conda env:base] *",
   "language": "python",
   "name": "conda-base-py"
  },
  "language_info": {
   "codemirror_mode": {
    "name": "ipython",
    "version": 3
   },
   "file_extension": ".py",
   "mimetype": "text/x-python",
   "name": "python",
   "nbconvert_exporter": "python",
   "pygments_lexer": "ipython3",
   "version": "3.13.5"
  }
 },
 "nbformat": 4,
 "nbformat_minor": 5
}
